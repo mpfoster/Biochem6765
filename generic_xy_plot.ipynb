{
  "nbformat": 4,
  "nbformat_minor": 0,
  "metadata": {
    "colab": {
      "name": "generic_xy_plot.ipynb",
      "provenance": [],
      "authorship_tag": "ABX9TyMtDft15KQruI2VDM5X5mQX",
      "include_colab_link": true
    },
    "kernelspec": {
      "name": "python3",
      "display_name": "Python 3"
    },
    "language_info": {
      "name": "python"
    }
  },
  "cells": [
    {
      "cell_type": "markdown",
      "metadata": {
        "id": "view-in-github",
        "colab_type": "text"
      },
      "source": [
        "<a href=\"https://colab.research.google.com/github/mpfoster/Biochem6765/blob/master/generic_xy_plot.ipynb\" target=\"_parent\"><img src=\"https://colab.research.google.com/assets/colab-badge.svg\" alt=\"Open In Colab\"/></a>"
      ]
    },
    {
      "cell_type": "markdown",
      "source": [
        "# Python(3) code for generic xy plotting.\n",
        "User can enter pairwise x and y data, do optional math on the data, and plot. Requires numpy and matplotlib."
      ],
      "metadata": {
        "id": "M9XyvK04Oo0j"
      }
    },
    {
      "cell_type": "code",
      "execution_count": null,
      "metadata": {
        "id": "uTGwK6PiMaHc"
      },
      "outputs": [],
      "source": [
        "# Generic x/y plotting in Python; MPF 2021-12\n",
        "#\n",
        "# Import commonly used libraries; this should not need edits\n",
        "import numpy as np\n",
        "import matplotlib.pyplot as plt\n",
        "\n",
        "# Your data here: ******\n",
        "# define x and y data here; n should match:\n",
        "xval = 2.5,5.0,10.0,15.0,20.0 # comma-separated x-values\n",
        "yval = 0.024, 0.036, 0.053, 0.060, 0.064 #  comma-separated y values\n",
        "\n",
        "# These commands convert to lists to arrays for doing math on them\n",
        "x = np.array(xval); y = np.array(yval)\n",
        "# Optionally, specify math on xval, yval; e.g., np.log(xval), 1/yval, 10*xval\n",
        "x = xval; y = yval \n",
        "\n",
        "# optional customizations:\n",
        "# see https://matplotlib.org/ for more info\n",
        "marker = 'o-' # marker '' for default; 'o-' for circle-dash, '--', '..'\n",
        "xlab = 'x-axis' # change the text in quotes per your data\n",
        "ylab = 'y-axis' # change the text in quotes per your data\n",
        "title = 'Title' # change the text in quotes per your data\n",
        "style = 'ggplot' # specify plot style here; examples at\n",
        "# https://matplotlib.org/stable/gallery/style_sheets/style_sheets_reference.html\n",
        "# if high-resolution plot is desired:\n",
        "plotfile = 'png' # options are 'pdf', 'png' or 'svg'\n",
        "\n",
        "# should not need to edit items below this line\n",
        "# --------\n",
        "plt.style.use(style)\n",
        "# do specified math\n",
        "plt.plot(x,y,marker)\n",
        "plt.xlabel(xlab,fontsize=16); plt.ylabel(ylab,fontsize=16)\n",
        "plt.title(title,fontsize=16)\n",
        "if plotfile == 'png':\n",
        "  plt.savefig('plot.png', dpi=300) \n",
        "elif plotfile == 'pdf':\n",
        "  plt.savefig('plot.pdf')\n",
        "elif plotfile == 'svg':\n",
        "  plt.savefig('plot.svg')\n",
        "else:\n",
        "  plt.show()"
      ]
    }
  ]
}