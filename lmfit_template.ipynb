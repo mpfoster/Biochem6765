{
  "nbformat": 4,
  "nbformat_minor": 0,
  "metadata": {
    "colab": {
      "name": "lmfit-template.ipynb",
      "provenance": [],
      "authorship_tag": "ABX9TyOA8PIG7z6rjoFB0VY1eZMv",
      "include_colab_link": true
    },
    "kernelspec": {
      "name": "python3",
      "display_name": "Python 3"
    }
  },
  "cells": [
    {
      "cell_type": "markdown",
      "metadata": {
        "id": "view-in-github",
        "colab_type": "text"
      },
      "source": [
        "<a href=\"https://colab.research.google.com/github/mpfoster/Biochem6765/blob/master/lmfit_template.ipynb\" target=\"_parent\"><img src=\"https://colab.research.google.com/assets/colab-badge.svg\" alt=\"Open In Colab\"/></a>"
      ]
    },
    {
      "cell_type": "markdown",
      "metadata": {
        "id": "s_KHp4wM6ija"
      },
      "source": [
        "# Template for fitting data using the lmfit package \n",
        "\n",
        "MPF 2021-01-17\n",
        "\n",
        "_To make best use of this template, `Edit > Clear all outputs`, then run desired cells sequentially_"
      ]
    },
    {
      "cell_type": "markdown",
      "metadata": {
        "id": "8lYy6gWGQ3t5"
      },
      "source": [
        "Install lmfit; for docs see: https://lmfit.github.io/lmfit-py/\n",
        "\n",
        "If already installed, can comment out next line, or just not run the cell\n"
      ]
    },
    {
      "cell_type": "code",
      "metadata": {
        "id": "YLMy_E1o5r42"
      },
      "source": [
        "!pip install lmfit"
      ],
      "execution_count": null,
      "outputs": []
    },
    {
      "cell_type": "markdown",
      "metadata": {
        "id": "MfV6XnoeRCO9"
      },
      "source": [
        "Then, import the required libraries"
      ]
    },
    {
      "cell_type": "code",
      "metadata": {
        "id": "sG5GNBiw53NS"
      },
      "source": [
        "from lmfit import Model # requires lmfit be installed already\n",
        "import numpy as np # https://numpy.org/\n",
        "import matplotlib.pyplot as plt \n",
        "# for matplotlib tutorial see: https://matplotlib.org/tutorials/index.html\n",
        "import pandas as pd # https://pandas.pydata.org/"
      ],
      "execution_count": 2,
      "outputs": []
    },
    {
      "cell_type": "markdown",
      "metadata": {
        "id": "oWN0HVvURG8E"
      },
      "source": [
        "Next, we define x and y data arrays. We can either specify the values in the code, as here:"
      ]
    },
    {
      "cell_type": "code",
      "metadata": {
        "id": "zPy3dmX05uz5"
      },
      "source": [
        "# replace these numbers with your data\n",
        "# (must have same number of x and y values)\n",
        "x = np.array([0,1,2,3,4,5,6,7])\n",
        "y = np.array([0. , 0.5, 0.67, 0.75, 0.8,0.83, 0.86, 0.875])\n",
        "df = pd.DataFrame({\"X\":x,\"Y\":y}) # replace \"X\" and \"Y\" with col names\n",
        "df"
      ],
      "execution_count": null,
      "outputs": []
    },
    {
      "cell_type": "markdown",
      "metadata": {
        "id": "ti7GPv-XQtZ-"
      },
      "source": [
        "Or, if instead of typing the x/y values into vectors we want to read them \n",
        "from a file, it's convenient to use pandas. Place/upload a csv file with the data into a folder accessible by your Jupyter server, then replace 'filename.csv'  with the name of (or path to) your data file. \n",
        "\n",
        "Below, we assume the file `binding-data-1.csv` has been placed in the current directory. In Colab, that's in \"Files\"."
      ]
    },
    {
      "cell_type": "code",
      "metadata": {
        "colab": {
          "base_uri": "https://localhost:8080/",
          "height": 363
        },
        "id": "iw-r7rrkFQC_",
        "outputId": "09ba4c2c-2ec1-4636-af94-981158773de5"
      },
      "source": [
        "df = pd.read_csv('binding-data-1.csv', comment=\"#\")\n",
        "df # this command on its own will output the contents of the data frame"
      ],
      "execution_count": 3,
      "outputs": [
        {
          "output_type": "execute_result",
          "data": {
            "text/html": [
              "<div>\n",
              "<style scoped>\n",
              "    .dataframe tbody tr th:only-of-type {\n",
              "        vertical-align: middle;\n",
              "    }\n",
              "\n",
              "    .dataframe tbody tr th {\n",
              "        vertical-align: top;\n",
              "    }\n",
              "\n",
              "    .dataframe thead th {\n",
              "        text-align: right;\n",
              "    }\n",
              "</style>\n",
              "<table border=\"1\" class=\"dataframe\">\n",
              "  <thead>\n",
              "    <tr style=\"text-align: right;\">\n",
              "      <th></th>\n",
              "      <th>[L]</th>\n",
              "      <th>Y_monomer</th>\n",
              "      <th>Y_tetramer</th>\n",
              "    </tr>\n",
              "  </thead>\n",
              "  <tbody>\n",
              "    <tr>\n",
              "      <th>0</th>\n",
              "      <td>0.25</td>\n",
              "      <td>0.180</td>\n",
              "      <td>0.0000</td>\n",
              "    </tr>\n",
              "    <tr>\n",
              "      <th>1</th>\n",
              "      <td>1.00</td>\n",
              "      <td>0.460</td>\n",
              "      <td>0.0125</td>\n",
              "    </tr>\n",
              "    <tr>\n",
              "      <th>2</th>\n",
              "      <td>2.50</td>\n",
              "      <td>0.700</td>\n",
              "      <td>0.0450</td>\n",
              "    </tr>\n",
              "    <tr>\n",
              "      <th>3</th>\n",
              "      <td>4.00</td>\n",
              "      <td>0.790</td>\n",
              "      <td>0.1000</td>\n",
              "    </tr>\n",
              "    <tr>\n",
              "      <th>4</th>\n",
              "      <td>7.00</td>\n",
              "      <td>0.860</td>\n",
              "      <td>0.2700</td>\n",
              "    </tr>\n",
              "    <tr>\n",
              "      <th>5</th>\n",
              "      <td>10.00</td>\n",
              "      <td>0.900</td>\n",
              "      <td>0.5000</td>\n",
              "    </tr>\n",
              "    <tr>\n",
              "      <th>6</th>\n",
              "      <td>13.00</td>\n",
              "      <td>0.920</td>\n",
              "      <td>0.6800</td>\n",
              "    </tr>\n",
              "    <tr>\n",
              "      <th>7</th>\n",
              "      <td>16.00</td>\n",
              "      <td>0.935</td>\n",
              "      <td>0.7800</td>\n",
              "    </tr>\n",
              "    <tr>\n",
              "      <th>8</th>\n",
              "      <td>19.00</td>\n",
              "      <td>0.950</td>\n",
              "      <td>0.8550</td>\n",
              "    </tr>\n",
              "    <tr>\n",
              "      <th>9</th>\n",
              "      <td>25.00</td>\n",
              "      <td>0.960</td>\n",
              "      <td>0.9225</td>\n",
              "    </tr>\n",
              "  </tbody>\n",
              "</table>\n",
              "</div>"
            ],
            "text/plain": [
              "     [L]  Y_monomer  Y_tetramer\n",
              "0   0.25      0.180      0.0000\n",
              "1   1.00      0.460      0.0125\n",
              "2   2.50      0.700      0.0450\n",
              "3   4.00      0.790      0.1000\n",
              "4   7.00      0.860      0.2700\n",
              "5  10.00      0.900      0.5000\n",
              "6  13.00      0.920      0.6800\n",
              "7  16.00      0.935      0.7800\n",
              "8  19.00      0.950      0.8550\n",
              "9  25.00      0.960      0.9225"
            ]
          },
          "metadata": {
            "tags": []
          },
          "execution_count": 3
        }
      ]
    },
    {
      "cell_type": "code",
      "metadata": {
        "colab": {
          "base_uri": "https://localhost:8080/",
          "height": 282
        },
        "id": "s98Gs8obIlsZ",
        "outputId": "6526daee-b60a-4410-9260-c2663cf1f230"
      },
      "source": [
        "# plot the data (specifying x column)\n",
        "df.plot(x=0, style=' ', marker='o') # x values in col 0\n",
        "plt.grid(); plt.show()"
      ],
      "execution_count": 4,
      "outputs": [
        {
          "output_type": "display_data",
          "data": {
            "image/png": "[encoded data removed]",
            "text/plain": [
              "<Figure size 432x288 with 1 Axes>"
            ]
          },
          "metadata": {
            "tags": [],
            "needs_background": "light"
          }
        }
      ]
    },
    {
      "cell_type": "markdown",
      "metadata": {
        "id": "ol32nEeu7m5s"
      },
      "source": [
        "Define the function(s) to fit the data:"
      ]
    },
    {
      "cell_type": "code",
      "metadata": {
        "id": "wqqER1LT7kRF"
      },
      "source": [
        "def quadratic(x,K):\n",
        "  return (K+x+Mt-((K+x+Mt)**2-4*x*Mt)**(0.5))/(2*Mt)\n",
        "  # this function could be modified to include an amplitude fitted param\n",
        "  # as in A*(K+x+Mt-((K+x+Mt)**2-4*x*Mt)**(0.5))/(2*Mt)\n",
        "  # requires the value Mt be externally defined"
      ],
      "execution_count": null,
      "outputs": []
    },
    {
      "cell_type": "code",
      "metadata": {
        "id": "h1e33Q_C6QNY"
      },
      "source": [
        "def hyperbolic(x, K):\n",
        "  return x/(x+K)"
      ],
      "execution_count": 5,
      "outputs": []
    },
    {
      "cell_type": "code",
      "metadata": {
        "id": "Gu_0s2ZV8Evi"
      },
      "source": [
        "def Hill(x,K,n):\n",
        "  return <expression> # replace <expression> with the code for the Hill eqn."
      ],
      "execution_count": null,
      "outputs": []
    },
    {
      "cell_type": "markdown",
      "metadata": {
        "id": "nGv8iIhOS5HS"
      },
      "source": [
        "Having read the data into a dataframe, and specified a function to be fit, we create a _fitting object_, here called `mod`, that knows the function to fit. Then, we instruct the object to fit that equation to the specified $x$ and $y$ data, storing the results in a new object, called `result`. (NB: the names of objects are arbitrary, but it's helpful if they are somewhat informative.)"
      ]
    },
    {
      "cell_type": "code",
      "metadata": {
        "id": "hgoPZTUA5oaM"
      },
      "source": [
        "# perform the fit using lmfit; specify \"good\" starting guesses\n",
        "K0 = 1 # initial guess for parameter K\n",
        "mod = Model(hyperbolic)\n",
        "x = df.iloc[:,0]\n",
        "y = df.iloc[:,1] # specify which y values to fit\n",
        "result = mod.fit(y, x=x, K = K0) "
      ],
      "execution_count": 7,
      "outputs": []
    },
    {
      "cell_type": "code",
      "metadata": {
        "colab": {
          "base_uri": "https://localhost:8080/",
          "height": 404
        },
        "id": "o5viyAaq6yrw",
        "outputId": "4b717848-fdeb-45be-a957-4e809120274e"
      },
      "source": [
        "# plot the result\n",
        "result.plot(numpoints=100) # numpoints is for best fit line\n",
        "plt.show()"
      ],
      "execution_count": 8,
      "outputs": [
        {
          "output_type": "display_data",
          "data": {
            "image/png": "[encoded data removed]",
            "text/plain": [
              "<Figure size 432x432 with 2 Axes>"
            ]
          },
          "metadata": {
            "tags": [],
            "needs_background": "light"
          }
        }
      ]
    },
    {
      "cell_type": "code",
      "metadata": {
        "colab": {
          "base_uri": "https://localhost:8080/"
        },
        "id": "hap9DAMo63-O",
        "outputId": "776088bf-2498-440a-eb7d-9ceeb29621e1"
      },
      "source": [
        "# report the parameters\n",
        "print(result.fit_report())"
      ],
      "execution_count": 9,
      "outputs": [
        {
          "output_type": "stream",
          "text": [
            "[[Model]]\n",
            "    Model(hyperbolic)\n",
            "[[Fit Statistics]]\n",
            "    # fitting method   = leastsq\n",
            "    # function evals   = 9\n",
            "    # data points      = 10\n",
            "    # variables        = 1\n",
            "    chi-square         = 3.5268e-04\n",
            "    reduced chi-square = 3.9187e-05\n",
            "    Akaike info crit   = -100.525265\n",
            "    Bayesian info crit = -100.222680\n",
            "[[Variables]]\n",
            "    K:  1.11757127 +/- 0.01584742 (1.42%) (init = 1)\n"
          ],
          "name": "stdout"
        }
      ]
    },
    {
      "cell_type": "code",
      "metadata": {
        "colab": {
          "base_uri": "https://localhost:8080/"
        },
        "id": "Fw6mpsvNSSM-",
        "outputId": "c65774ea-57a6-47b7-f42d-f834c455e168"
      },
      "source": [
        "# access individual parameters by name:\n",
        "print('K: {:.3f} ± {:.3f} µM'.format(\n",
        "    result.params['K'].value,\n",
        "    result.params['K'].stderr))"
      ],
      "execution_count": 20,
      "outputs": [
        {
          "output_type": "stream",
          "text": [
            "K: 1.118 ± 0.016 µM\n"
          ],
          "name": "stdout"
        }
      ]
    }
  ]
}