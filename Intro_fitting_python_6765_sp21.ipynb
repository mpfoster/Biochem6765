{
  "nbformat": 4,
  "nbformat_minor": 0,
  "metadata": {
    "colab": {
      "name": "Intro_fitting_python_6765-sp21.ipynb",
      "provenance": [],
      "collapsed_sections": [],
      "toc_visible": true,
      "include_colab_link": true
    },
    "kernelspec": {
      "display_name": "Python 3",
      "language": "python",
      "name": "python3"
    },
    "language_info": {
      "codemirror_mode": {
        "name": "ipython",
        "version": 3
      },
      "file_extension": ".py",
      "mimetype": "text/x-python",
      "name": "python",
      "nbconvert_exporter": "python",
      "pygments_lexer": "ipython3",
      "version": "3.9.1"
    }
  },
  "cells": [
    {
      "cell_type": "markdown",
      "metadata": {
        "id": "view-in-github",
        "colab_type": "text"
      },
      "source": [
        "<a href=\"https://colab.research.google.com/github/mpfoster/Biochem6765/blob/master/Intro_fitting_python_6765_sp21.ipynb\" target=\"_parent\"><img src=\"https://colab.research.google.com/assets/colab-badge.svg\" alt=\"Open In Colab\"/></a>"
      ]
    },
    {
      "cell_type": "markdown",
      "metadata": {
        "id": "7KCUG_b4FRTu"
      },
      "source": [
        "# Introduction to data fitting in Python for Biochem 6765 - SP21; Foster\n",
        "This notebook is intended to serve as a tutorial guide for introducing students to data fitting in Python. It is by no means a complete description of capabilities or possibilities for data analysis in Python, but hopefully provides some useful guides and examples. \n",
        "\n",
        "Have fun! 2021-01-06 MPF"
      ]
    },
    {
      "cell_type": "markdown",
      "metadata": {
        "id": "qALsW8XAgwaa"
      },
      "source": [
        "## Data fitting with Python, using Matplotlib and Pandas\n",
        "We will start with a cooperative isotherm of oxygen binding to hemoglobin. The data can be loaded from a file, or entered as lists of $x$ and $y$ values. We will read the values from a _.csv_ (comma separated values) file."
      ]
    },
    {
      "cell_type": "code",
      "metadata": {
        "id": "11hLGNZrGM7C"
      },
      "source": [
        "# import matplotlib library for MATLAB-like plotting\n",
        "import matplotlib.pyplot as plt  # this library has the plotting tools\n",
        "%matplotlib inline \n",
        "plt.style.use('ggplot') # one of many available plot styles"
      ],
      "execution_count": null,
      "outputs": []
    },
    {
      "cell_type": "markdown",
      "metadata": {
        "id": "fSe_Gli9SUjT"
      },
      "source": [
        "We will read in the data using the `pandas` package, https://pandas.pydata.org/. Pandas simplifies loading tabular data into a \"data frame\"; basically a table with rows and columns. For this example, we will load a `.csv` (comma-separated-values) file that looks like this:\n",
        "```\n",
        "pO2,Y\n",
        "0.499,0.000\n",
        "1.341,0.015\n",
        "2.106,0.030\n",
        "5.345,0.146\n",
        "7.934,0.316\n",
        "11.132,0.505\n",
        "14.761,0.644\n",
        "18.499,0.760\n",
        "25.233,0.919\n",
        "64.028,0.995\n",
        "```\n",
        "The first row has column labels; the rest are data. We can either drag/drop the file into the Jupter window with our Jupter script, or specify the path to the file. Now, we tell Pandas to load the data in the file into a data frame. [(See Pandas docs.)](https://pandas.pydata.org/pandas-docs/stable/reference/api/pandas.read_table.html)"
      ]
    },
    {
      "cell_type": "code",
      "metadata": {
        "colab": {
          "base_uri": "https://localhost:8080/",
          "height": 363
        },
        "id": "NJZEkhpVyggl",
        "outputId": "6bef3cc8-ac4e-4d7b-c207-fc24df314451"
      },
      "source": [
        "# use pandas to load the data from a url\n",
        "import pandas as pd\n",
        "df = pd.read_csv(\"hb+o2.csv\")\n",
        "df  # print out the data frame"
      ],
      "execution_count": null,
      "outputs": [
        {
          "output_type": "execute_result",
          "data": {
            "text/html": [
              "<div>\n",
              "<style scoped>\n",
              "    .dataframe tbody tr th:only-of-type {\n",
              "        vertical-align: middle;\n",
              "    }\n",
              "\n",
              "    .dataframe tbody tr th {\n",
              "        vertical-align: top;\n",
              "    }\n",
              "\n",
              "    .dataframe thead th {\n",
              "        text-align: right;\n",
              "    }\n",
              "</style>\n",
              "<table border=\"1\" class=\"dataframe\">\n",
              "  <thead>\n",
              "    <tr style=\"text-align: right;\">\n",
              "      <th></th>\n",
              "      <th>pO2</th>\n",
              "      <th>Y</th>\n",
              "    </tr>\n",
              "  </thead>\n",
              "  <tbody>\n",
              "    <tr>\n",
              "      <th>0</th>\n",
              "      <td>0.499</td>\n",
              "      <td>0.000</td>\n",
              "    </tr>\n",
              "    <tr>\n",
              "      <th>1</th>\n",
              "      <td>1.341</td>\n",
              "      <td>0.015</td>\n",
              "    </tr>\n",
              "    <tr>\n",
              "      <th>2</th>\n",
              "      <td>2.106</td>\n",
              "      <td>0.030</td>\n",
              "    </tr>\n",
              "    <tr>\n",
              "      <th>3</th>\n",
              "      <td>5.345</td>\n",
              "      <td>0.146</td>\n",
              "    </tr>\n",
              "    <tr>\n",
              "      <th>4</th>\n",
              "      <td>7.934</td>\n",
              "      <td>0.316</td>\n",
              "    </tr>\n",
              "    <tr>\n",
              "      <th>5</th>\n",
              "      <td>11.132</td>\n",
              "      <td>0.505</td>\n",
              "    </tr>\n",
              "    <tr>\n",
              "      <th>6</th>\n",
              "      <td>14.761</td>\n",
              "      <td>0.644</td>\n",
              "    </tr>\n",
              "    <tr>\n",
              "      <th>7</th>\n",
              "      <td>18.499</td>\n",
              "      <td>0.760</td>\n",
              "    </tr>\n",
              "    <tr>\n",
              "      <th>8</th>\n",
              "      <td>25.233</td>\n",
              "      <td>0.919</td>\n",
              "    </tr>\n",
              "    <tr>\n",
              "      <th>9</th>\n",
              "      <td>64.028</td>\n",
              "      <td>0.995</td>\n",
              "    </tr>\n",
              "  </tbody>\n",
              "</table>\n",
              "</div>"
            ],
            "text/plain": [
              "      pO2      Y\n",
              "0   0.499  0.000\n",
              "1   1.341  0.015\n",
              "2   2.106  0.030\n",
              "3   5.345  0.146\n",
              "4   7.934  0.316\n",
              "5  11.132  0.505\n",
              "6  14.761  0.644\n",
              "7  18.499  0.760\n",
              "8  25.233  0.919\n",
              "9  64.028  0.995"
            ]
          },
          "metadata": {
            "tags": []
          },
          "execution_count": 8
        }
      ]
    },
    {
      "cell_type": "markdown",
      "metadata": {
        "id": "Lrm7uBrReLwj"
      },
      "source": [
        "and... easily plot the data using funtions associated with a pandas data frame:"
      ]
    },
    {
      "cell_type": "code",
      "metadata": {
        "colab": {
          "base_uri": "https://localhost:8080/",
          "height": 245
        },
        "id": "aS8jEKNa1U_n",
        "outputId": "7d208ed3-59cd-406d-ef4f-0a4978c795cc"
      },
      "source": [
        "df.plot('pO2', 'Y', style='o-', figsize=(4,3)) # plot the data using a scatter plot"
      ],
      "execution_count": null,
      "outputs": [
        {
          "output_type": "execute_result",
          "data": {
            "text/plain": [
              "<matplotlib.axes._subplots.AxesSubplot at 0x7ff2c65611d0>"
            ]
          },
          "metadata": {
            "tags": []
          },
          "execution_count": 14
        },
        {
          "output_type": "display_data",
          "data": {
            "image/png": "[encoded data removed]",
            "text/plain": [
              "<Figure size 288x216 with 1 Axes>"
            ]
          },
          "metadata": {
            "tags": [],
            "needs_background": "light"
          }
        }
      ]
    },
    {
      "cell_type": "markdown",
      "metadata": {
        "id": "gVvHVsvXelzj"
      },
      "source": [
        "NB: we can convert a column in a data frame to a list:"
      ]
    },
    {
      "cell_type": "code",
      "metadata": {
        "colab": {
          "base_uri": "https://localhost:8080/",
          "height": 35
        },
        "id": "S3WosP1GUuuU",
        "outputId": "87f325b1-cdeb-4722-f3d2-51c030a6226c"
      },
      "source": [
        "df['Ys'].tolist() # print a column as a list"
      ],
      "execution_count": null,
      "outputs": [
        {
          "output_type": "execute_result",
          "data": {
            "text/plain": [
              "[0.0, 0.015, 0.03, 0.146, 0.316, 0.505, 0.644, 0.76, 0.919, 0.995]"
            ]
          },
          "metadata": {
            "tags": []
          },
          "execution_count": 4
        }
      ]
    },
    {
      "cell_type": "markdown",
      "metadata": {
        "id": "v1Frpv3CF2Lc"
      },
      "source": [
        "We can also perform standard statistical analysis using built-in Pandas functions:"
      ]
    },
    {
      "cell_type": "code",
      "metadata": {
        "colab": {
          "base_uri": "https://localhost:8080/",
          "height": 300
        },
        "id": "P7iKsjhjF9e1",
        "outputId": "8e71e40a-0795-4e59-8aa1-ea94ee627a65"
      },
      "source": [
        "df.describe()"
      ],
      "execution_count": null,
      "outputs": [
        {
          "output_type": "execute_result",
          "data": {
            "text/html": [
              "<div>\n",
              "<style scoped>\n",
              "    .dataframe tbody tr th:only-of-type {\n",
              "        vertical-align: middle;\n",
              "    }\n",
              "\n",
              "    .dataframe tbody tr th {\n",
              "        vertical-align: top;\n",
              "    }\n",
              "\n",
              "    .dataframe thead th {\n",
              "        text-align: right;\n",
              "    }\n",
              "</style>\n",
              "<table border=\"1\" class=\"dataframe\">\n",
              "  <thead>\n",
              "    <tr style=\"text-align: right;\">\n",
              "      <th></th>\n",
              "      <th>pO2</th>\n",
              "      <th>Y</th>\n",
              "    </tr>\n",
              "  </thead>\n",
              "  <tbody>\n",
              "    <tr>\n",
              "      <th>count</th>\n",
              "      <td>10.000000</td>\n",
              "      <td>10.000000</td>\n",
              "    </tr>\n",
              "    <tr>\n",
              "      <th>mean</th>\n",
              "      <td>15.087800</td>\n",
              "      <td>0.433000</td>\n",
              "    </tr>\n",
              "    <tr>\n",
              "      <th>std</th>\n",
              "      <td>18.979209</td>\n",
              "      <td>0.384325</td>\n",
              "    </tr>\n",
              "    <tr>\n",
              "      <th>min</th>\n",
              "      <td>0.499000</td>\n",
              "      <td>0.000000</td>\n",
              "    </tr>\n",
              "    <tr>\n",
              "      <th>25%</th>\n",
              "      <td>2.915750</td>\n",
              "      <td>0.059000</td>\n",
              "    </tr>\n",
              "    <tr>\n",
              "      <th>50%</th>\n",
              "      <td>9.533000</td>\n",
              "      <td>0.410500</td>\n",
              "    </tr>\n",
              "    <tr>\n",
              "      <th>75%</th>\n",
              "      <td>17.564500</td>\n",
              "      <td>0.731000</td>\n",
              "    </tr>\n",
              "    <tr>\n",
              "      <th>max</th>\n",
              "      <td>64.028000</td>\n",
              "      <td>0.995000</td>\n",
              "    </tr>\n",
              "  </tbody>\n",
              "</table>\n",
              "</div>"
            ],
            "text/plain": [
              "             pO2          Y\n",
              "count  10.000000  10.000000\n",
              "mean   15.087800   0.433000\n",
              "std    18.979209   0.384325\n",
              "min     0.499000   0.000000\n",
              "25%     2.915750   0.059000\n",
              "50%     9.533000   0.410500\n",
              "75%    17.564500   0.731000\n",
              "max    64.028000   0.995000"
            ]
          },
          "metadata": {
            "tags": []
          },
          "execution_count": 15
        }
      ]
    },
    {
      "cell_type": "markdown",
      "metadata": {
        "id": "T_HHtk1rVdGF"
      },
      "source": [
        "## Fitting to a model\n",
        "OK, we have loaded and plotted the binding data. It's common in Biochemistry to model cooperative binding of multiple ligands to a macromolecule using the Hill equation: \n",
        "\n",
        "$$Y=\\frac{[L]^n}{[L]^n+K_D^n}$$\n",
        "\n",
        "where _n_ is the Hill coefficient, $K_D$ is the equilibrium dissociation constant and $[L]$ the free ligand concentration. We'll have more to say later about the Hill equation, but for now we'll just say that it's commonly used and can generate curves that fit cooperative binding data.\n"
      ]
    },
    {
      "cell_type": "markdown",
      "metadata": {
        "id": "9-EoONdWIA2j"
      },
      "source": [
        "Next, we need to write out the Hill equation in a form that Python will understand. We will do this in the form of a _function_, so we can call and re-use the function by name; e.g., the square root function `sqrt()`."
      ]
    },
    {
      "cell_type": "code",
      "metadata": {
        "id": "tIRPk9I1aoT3"
      },
      "source": [
        "# When you call the Hill function, you want it to return Y as determined by\n",
        "#  the other supplied parameters:\n",
        "def Hill(x, n, Kd): # the Hill equation\n",
        "    return x**n/(x**n + Kd**n) "
      ],
      "execution_count": null,
      "outputs": []
    },
    {
      "cell_type": "markdown",
      "metadata": {
        "id": "Jh059lqBeFpj"
      },
      "source": [
        "Having defined a function, it can be useful to guess some paramaters for the model and plot the model along with the data."
      ]
    },
    {
      "cell_type": "code",
      "metadata": {
        "colab": {
          "base_uri": "https://localhost:8080/",
          "height": 282
        },
        "id": "wzEeuQRRcjca",
        "outputId": "5c223521-a206-4dfb-c318-de805931ea73"
      },
      "source": [
        "calc_Y = Hill(df.pO2, 4,10) \n",
        "# we chose n = 4 here since there are 4 binding sites; and Kd =10 since \n",
        "# Y ~ 0.5 at pO2 ~10\n",
        "# now plot the Y and calc_Y against the same x values:\n",
        "plt.plot(df.pO2, df.Y,'o', label='data')\n",
        "plt.plot(df.pO2, calc_Y, label='model')\n",
        "plt.xlabel('pO2 / mmHg'); plt.ylabel('$Y$')\n",
        "plt.legend(); plt.show()"
      ],
      "execution_count": 54,
      "outputs": [
        {
          "output_type": "display_data",
          "data": {
            "image/png": "[encoded data removed]",
            "text/plain": [
              "<Figure size 432x288 with 1 Axes>"
            ]
          },
          "metadata": {
            "tags": [],
            "needs_background": "light"
          }
        }
      ]
    },
    {
      "cell_type": "markdown",
      "metadata": {
        "id": "mwo9WYlTzprl"
      },
      "source": [
        "We evaluate the goodness of fit by computing a chi-square ($\\chi^2$), the squared sum of the residual differences between the data and the model evaluated at each $x$ value:\n",
        "$$\\chi^2 =  \\sum_i\\left(obs(x)-calc(x)\\right)^2 = \\sum_i (residuals)^2$$\n"
      ]
    },
    {
      "cell_type": "code",
      "metadata": {
        "colab": {
          "base_uri": "https://localhost:8080/",
          "height": 359
        },
        "id": "ac0N3Ezi1aZC",
        "outputId": "353e9da6-397c-4577-ffde-23d9d45ae1f4"
      },
      "source": [
        "residuals = data - calc_Y\n",
        "plt.stem(df.pO2,residuals)\n",
        "plt.xlabel('pO2 / mmHg'); plt.ylabel('Residuals')\n",
        "plt.title('$\\chi^2$ = %.2f' % (sum(residuals))**2 )\n",
        "plt.show()"
      ],
      "execution_count": 59,
      "outputs": [
        {
          "output_type": "stream",
          "text": [
            "/usr/local/lib/python3.6/dist-packages/ipykernel_launcher.py:2: UserWarning: In Matplotlib 3.3 individual lines on a stem plot will be added as a LineCollection instead of individual lines. This significantly improves the performance of a stem plot. To remove this warning and switch to the new behaviour, set the \"use_line_collection\" keyword argument to True.\n",
            "  \n"
          ],
          "name": "stderr"
        },
        {
          "output_type": "display_data",
          "data": {
            "image/png": "[encoded data removed]",
            "text/plain": [
              "<Figure size 432x288 with 1 Axes>"
            ]
          },
          "metadata": {
            "tags": [],
            "needs_background": "light"
          }
        }
      ]
    },
    {
      "cell_type": "markdown",
      "metadata": {
        "id": "4dNCKO0PcXKb"
      },
      "source": [
        "Fitting involves finding parameters that generate a **best fit** between the _data_ and the _model_. Because the Hill equation model is not a straight line, we call this _non-linear curve fitting_. (The mathematics for linear regression is much more straightforward.)\n",
        "\n",
        "There's more than one way to perform nonlinear fitting in python, and we will use the `lmfit` package https://lmfit.github.io/lmfit-py/ to generate the model and perfom fitting. `lmfit` has some nice features but is not a standard package in most python installations (it is built on other standard packages, especially `numpy` and `scipy`), and therefore needs to be installed (esp. for use in Colab). From a Jupyter Notebook, packaged installation can often be accomplished using [`pip`, the package installer for Python](https://pypi.org/project/pip/), which will search online databases for named packages, and install them if possible:\n",
        "```\n",
        "!pip install lmfit\n",
        "```\n"
      ]
    },
    {
      "cell_type": "code",
      "metadata": {
        "id": "E0NReY51yngk"
      },
      "source": [
        "# install lmfit\n",
        "!pip install lmfit"
      ],
      "execution_count": null,
      "outputs": []
    },
    {
      "cell_type": "markdown",
      "metadata": {
        "id": "ntuHLcafJOhW"
      },
      "source": [
        "To fit the data with the model, we have to define a _fitting object_ that knows what is the mathematical model (here, the Hill equation), and which parameters are independent (not to be optimized)."
      ]
    },
    {
      "cell_type": "code",
      "metadata": {
        "colab": {
          "base_uri": "https://localhost:8080/",
          "height": 487
        },
        "id": "PX1STDWLc_iO",
        "outputId": "92e1b9f4-e17a-4706-f216-cbc35b08c7ca"
      },
      "source": [
        "from lmfit import Model #, Parameter, report_fit  # import the desired components\n",
        "# simplest usage:\n",
        "x = df.pO2; data = df.Y\n",
        "hmodel = Model(Hill, independent_vars=['x'])\n",
        "result = hmodel.fit(data, x=x, n=4, Kd=10) # guess some starting values and store them\n",
        "# ... in a Python oject, here called 'result'\n",
        "result # echo the contents of the result object"
      ],
      "execution_count": 61,
      "outputs": [
        {
          "output_type": "execute_result",
          "data": {
            "text/html": [
              "<h2> Model</h2> Model(Hill) <h2>Fit Statistics</h2><table><tr><td>fitting method</td><td>leastsq</td><td></td></tr><tr><td># function evals</td><td>16</td><td></td></tr><tr><td># data points</td><td>10</td><td></td></tr><tr><td># variables</td><td>2</td><td></td></tr><tr><td>chi-square</td><td> 0.00267066</td><td></td></tr><tr><td>reduced chi-square</td><td> 3.3383e-04</td><td></td></tr><tr><td>Akaike info crit.</td><td>-78.2801515</td><td></td></tr><tr><td>Bayesian info crit.</td><td>-77.6749813</td><td></td></tr></table><h2>Variables</h2><table><tr><th> name </th><th> value </th><th> standard error </th><th> relative error </th><th> initial value </th><th> min </th><th> max </th><th> vary </th></tr><tr><td> n </td><td>  2.41580997 </td><td>  0.09918300 </td><td> (4.11%) </td><td> 4 </td><td>        -inf </td><td>         inf </td><td> True </td></tr><tr><td> Kd </td><td>  11.1027892 </td><td>  0.18283227 </td><td> (1.65%) </td><td> 10 </td><td>        -inf </td><td>         inf </td><td> True </td></tr></table><h2>Correlations (unreported correlations are < 0.100)</h2><table><tr><td>n</td><td>Kd</td><td>0.1425</td></tr></table>"
            ],
            "text/plain": [
              "<lmfit.model.ModelResult at 0x7ff2ac3bedd8>"
            ]
          },
          "metadata": {
            "tags": []
          },
          "execution_count": 61
        }
      ]
    },
    {
      "cell_type": "markdown",
      "metadata": {
        "id": "LihKXtQsfTyH"
      },
      "source": [
        "Next, we plot the data, along with the best-fit model, and the residuals; ALWAYS visually inspect the data, fit and residuals before interpreting parameters."
      ]
    },
    {
      "cell_type": "code",
      "metadata": {
        "colab": {
          "base_uri": "https://localhost:8080/",
          "height": 408
        },
        "id": "pkwv86D6gYLK",
        "outputId": "de605e72-f531-4c1d-f4cc-6b9d341a6536"
      },
      "source": [
        "result.plot(numpoints=100, show_init=True) # numpoints for the best fit curve \n",
        "plt.show()"
      ],
      "execution_count": 63,
      "outputs": [
        {
          "output_type": "display_data",
          "data": {
            "image/png": "[encoded data removed]",
            "text/plain": [
              "<Figure size 432x432 with 2 Axes>"
            ]
          },
          "metadata": {
            "tags": [],
            "needs_background": "light"
          }
        }
      ]
    },
    {
      "cell_type": "markdown",
      "metadata": {
        "id": "SRD2W-y1bC82"
      },
      "source": [
        "The best-fit parameters and other statistics are printed above, and can be individually accessed by name:"
      ]
    },
    {
      "cell_type": "code",
      "metadata": {
        "colab": {
          "base_uri": "https://localhost:8080/"
        },
        "id": "9KJVTfvCWb7y",
        "outputId": "35ca39b8-187e-4ee8-c00c-30e8e270ce9f"
      },
      "source": [
        "print('Best-fit n: {:.1f}; Kd: {:.1f}'.format(\n",
        "    result.params['n'].value, result.params['Kd'].value))"
      ],
      "execution_count": null,
      "outputs": [
        {
          "output_type": "stream",
          "text": [
            "Best-fit n: 2.4; Kd: 11.1\n"
          ],
          "name": "stdout"
        }
      ]
    },
    {
      "cell_type": "markdown",
      "metadata": {
        "id": "grgD17bW6W2g"
      },
      "source": [
        "If desired, we can append to the dataframe the initial values, best-fit, and residuals of the fit:"
      ]
    },
    {
      "cell_type": "code",
      "metadata": {
        "colab": {
          "base_uri": "https://localhost:8080/",
          "height": 206
        },
        "id": "PGfMwSXUVEh7",
        "outputId": "7682c967-1cb6-4a57-a4ca-762342789ffa"
      },
      "source": [
        "df['init'] = result.init_fit\n",
        "df['best'] = result.best_fit\n",
        "df['residuals'] = result.residual\n",
        "df.head()"
      ],
      "execution_count": 66,
      "outputs": [
        {
          "output_type": "execute_result",
          "data": {
            "text/html": [
              "<div>\n",
              "<style scoped>\n",
              "    .dataframe tbody tr th:only-of-type {\n",
              "        vertical-align: middle;\n",
              "    }\n",
              "\n",
              "    .dataframe tbody tr th {\n",
              "        vertical-align: top;\n",
              "    }\n",
              "\n",
              "    .dataframe thead th {\n",
              "        text-align: right;\n",
              "    }\n",
              "</style>\n",
              "<table border=\"1\" class=\"dataframe\">\n",
              "  <thead>\n",
              "    <tr style=\"text-align: right;\">\n",
              "      <th></th>\n",
              "      <th>pO2</th>\n",
              "      <th>Y</th>\n",
              "      <th>init</th>\n",
              "      <th>best</th>\n",
              "      <th>residuals</th>\n",
              "    </tr>\n",
              "  </thead>\n",
              "  <tbody>\n",
              "    <tr>\n",
              "      <th>0</th>\n",
              "      <td>0.499</td>\n",
              "      <td>0.000</td>\n",
              "      <td>0.000006</td>\n",
              "      <td>0.000556</td>\n",
              "      <td>0.000556</td>\n",
              "    </tr>\n",
              "    <tr>\n",
              "      <th>1</th>\n",
              "      <td>1.341</td>\n",
              "      <td>0.015</td>\n",
              "      <td>0.000323</td>\n",
              "      <td>0.006021</td>\n",
              "      <td>-0.008979</td>\n",
              "    </tr>\n",
              "    <tr>\n",
              "      <th>2</th>\n",
              "      <td>2.106</td>\n",
              "      <td>0.030</td>\n",
              "      <td>0.001963</td>\n",
              "      <td>0.017705</td>\n",
              "      <td>-0.012295</td>\n",
              "    </tr>\n",
              "    <tr>\n",
              "      <th>3</th>\n",
              "      <td>5.345</td>\n",
              "      <td>0.146</td>\n",
              "      <td>0.075460</td>\n",
              "      <td>0.146035</td>\n",
              "      <td>0.000035</td>\n",
              "    </tr>\n",
              "    <tr>\n",
              "      <th>4</th>\n",
              "      <td>7.934</td>\n",
              "      <td>0.316</td>\n",
              "      <td>0.283796</td>\n",
              "      <td>0.307506</td>\n",
              "      <td>-0.008494</td>\n",
              "    </tr>\n",
              "  </tbody>\n",
              "</table>\n",
              "</div>"
            ],
            "text/plain": [
              "     pO2      Y      init      best  residuals\n",
              "0  0.499  0.000  0.000006  0.000556   0.000556\n",
              "1  1.341  0.015  0.000323  0.006021  -0.008979\n",
              "2  2.106  0.030  0.001963  0.017705  -0.012295\n",
              "3  5.345  0.146  0.075460  0.146035   0.000035\n",
              "4  7.934  0.316  0.283796  0.307506  -0.008494"
            ]
          },
          "metadata": {
            "tags": []
          },
          "execution_count": 66
        }
      ]
    },
    {
      "cell_type": "code",
      "metadata": {
        "colab": {
          "base_uri": "https://localhost:8080/",
          "height": 299
        },
        "id": "jsvoIrQkW_yy",
        "outputId": "092c10d1-1dc2-488a-9b88-ab24464b0975"
      },
      "source": [
        "df.plot(x='pO2', y=['Y','best','init','residuals'])"
      ],
      "execution_count": 70,
      "outputs": [
        {
          "output_type": "execute_result",
          "data": {
            "text/plain": [
              "<matplotlib.axes._subplots.AxesSubplot at 0x7ff2ac09fb70>"
            ]
          },
          "metadata": {
            "tags": []
          },
          "execution_count": 70
        },
        {
          "output_type": "display_data",
          "data": {
            "image/png": "[encoded data removed]",
            "text/plain": [
              "<Figure size 432x288 with 1 Axes>"
            ]
          },
          "metadata": {
            "tags": [],
            "needs_background": "light"
          }
        }
      ]
    },
    {
      "cell_type": "code",
      "metadata": {
        "id": "powfFt8JFxeE"
      },
      "source": [
        ""
      ],
      "execution_count": null,
      "outputs": []
    }
  ]
}