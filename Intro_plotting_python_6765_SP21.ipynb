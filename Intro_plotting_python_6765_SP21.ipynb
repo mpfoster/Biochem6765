{
  "nbformat": 4,
  "nbformat_minor": 0,
  "metadata": {
    "colab": {
      "name": "Intro-plotting-python-6765-SP21",
      "provenance": [],
      "collapsed_sections": [],
      "include_colab_link": true
    },
    "kernelspec": {
      "name": "python3",
      "display_name": "Python 3"
    }
  },
  "cells": [
    {
      "cell_type": "markdown",
      "metadata": {
        "id": "view-in-github",
        "colab_type": "text"
      },
      "source": [
        "<a href=\"https://colab.research.google.com/github/mpfoster/Biochem6765/blob/master/Intro_plotting_python_6765_SP21.ipynb\" target=\"_parent\"><img src=\"https://colab.research.google.com/assets/colab-badge.svg\" alt=\"Open In Colab\"/></a>"
      ]
    },
    {
      "cell_type": "markdown",
      "metadata": {
        "id": "7KCUG_b4FRTu"
      },
      "source": [
        "# Introduction to using Python for Biochem 6765 - SP21; Foster\n",
        "\n",
        "_2021-01-04 MPF_\n",
        "\n",
        "This Jupyter notebook is intended to serve as a tutorial guide for introducing students to data plotting and fitting in Python. It is by no means a complete description of capabilities or possibilities for data analysis in Python, but hopefully provides some useful guides and examples. \n",
        "\n",
        "Although you may wish to install JupyterLab on your computer (See [jupyter.org](https://jupyter.org/)), for starters you can create your first Jupyter notebooks using [Google Colab](https://colab.research.google.com/); this does require that you have a GMail. Your work will be automatically saved to your Google Drive space.  \n",
        "\n",
        "If you are viewing this document on the [GitHub page](https://github.com/mpfoster/Biochem6765/blob/master/Intro_plotting_python_6765_SP21.ipynb), you should be able to open the notebook in Colab by simply clicking on the Open in Colab link at the top of the page. Alternatively, you can download the jupyter notebook, with the `.ipynb` extension (click on `Raw`, then _File-save_), then drag-drop into the file browser of a running Jupyter server.\n",
        "\n",
        "Jupyter notebooks have three components: (1) Markdown Text cells, (2) Code cells, and (3) Output cells. We can enter styled text in the Markdown cells, Python code in the code cells, and the result of executing the code is shown in the output cells. Students should use the code cells as a guide, and feel free to edit them and/or copy-paste into their own notebooks. The effect of editing the code can be seen by re-running the selected cell. Note that some cells will depend on execution of other cells, in which case the have to be executed in the right order. For best use of the tutorial, if you are going to made edits to this Notebook, it is helpful to clear the output fields when starting so that you can progress through it sequentially. This can be done at any time in Colab, via Tools > Command Palette > Clear all outputs.\n",
        "\n",
        "---\n"
      ]
    },
    {
      "cell_type": "markdown",
      "metadata": {
        "id": "_YLb42rjgZH8"
      },
      "source": [
        "\n",
        "## Markdown\n",
        "This is a Markdown cell in a [Jupyter](https://jupyterlab.readthedocs.io/) notebook. [Markdown](https://guides.github.com/features/mastering-markdown/) is an easy-to-type formatting language that is interpreted into HTML to generate nice formatting withought having to learn and type html code: like `<i>for italics</i>`.\n",
        "\n",
        "We can easliy format headings like this:\n",
        "```\n",
        "# This is a heading\n",
        "## This is a subheading\n",
        "```\n",
        "# This is a heading\n",
        "## This is a subheading\n",
        "\n",
        "Text can be **bold**, __bolded__, *italics*, _italicized_, and formatted to look like `code`, rendered as a $\\frac{Latex}{equation}$, as well as other options.\n",
        "\n",
        "Check out the [markdown cheat-sheet](https://www.markdownguide.org/cheat-sheet) for formatting tips."
      ]
    },
    {
      "cell_type": "markdown",
      "metadata": {
        "id": "JAueYhqPWemB"
      },
      "source": [
        "## Code Cells\n",
        "We can perform mathematical operations using the Python language in \"code\" cells. Code cells can have commands to be interpreted by the Python engine, or comments (commenting code is very good practice!). Coments begin with \"#\", or are breacketed by triple quotes."
      ]
    },
    {
      "cell_type": "code",
      "metadata": {
        "id": "zu4QLT_lWb8p",
        "colab": {
          "base_uri": "https://localhost:8080/"
        },
        "outputId": "deeaba34-7f5c-4e5b-c56f-c76419f745fa"
      },
      "source": [
        "# This is a comment in code cell; it's preceded by \"#\"\n",
        "'''\n",
        "This is also a comment; note the triple quotes\n",
        "Code cells can be *run* by typing Ctrl/Cmd-Enter, or by clicking on the \n",
        "\"Play\" icon in the top-left corner\n",
        "The following, is a mathematical operation that results in a simple output upon\n",
        "executing the code by running the cell.\n",
        "'''\n",
        "5+3"
      ],
      "execution_count": null,
      "outputs": [
        {
          "output_type": "execute_result",
          "data": {
            "text/plain": [
              "8"
            ]
          },
          "metadata": {
            "tags": []
          },
          "execution_count": 22
        }
      ]
    },
    {
      "cell_type": "markdown",
      "metadata": {
        "id": "4JlR4clxXvbj"
      },
      "source": [
        "In Python, we can declare and assign values to them as we need them:"
      ]
    },
    {
      "cell_type": "code",
      "metadata": {
        "id": "C3Dd4RflXrZy",
        "colab": {
          "base_uri": "https://localhost:8080/"
        },
        "outputId": "8800db96-8eef-41bc-9448-e3981fa2a513"
      },
      "source": [
        "a = 5+3   # this assigns to the variable a, the sum of 5 and 3\n",
        "a # a variable by itself as the last line of a code cell prints its value:"
      ],
      "execution_count": 4,
      "outputs": [
        {
          "output_type": "execute_result",
          "data": {
            "text/plain": [
              "8"
            ]
          },
          "metadata": {
            "tags": []
          },
          "execution_count": 4
        }
      ]
    },
    {
      "cell_type": "markdown",
      "metadata": {
        "id": "pHK-IwMpYXgc"
      },
      "source": [
        "Then perform operations with the declared variable:"
      ]
    },
    {
      "cell_type": "code",
      "metadata": {
        "id": "KIjc2mmpYDSc",
        "colab": {
          "base_uri": "https://localhost:8080/"
        },
        "outputId": "dfbe3ab0-5897-46f7-f612-5e2a457281e0"
      },
      "source": [
        "a**2  # this how we raise a number to an exponent in Python"
      ],
      "execution_count": null,
      "outputs": [
        {
          "output_type": "execute_result",
          "data": {
            "text/plain": [
              "64"
            ]
          },
          "metadata": {
            "tags": []
          },
          "execution_count": 3
        }
      ]
    },
    {
      "cell_type": "markdown",
      "metadata": {
        "id": "GTITmuhuYmEv"
      },
      "source": [
        "Some operations you might want to perform are not included in \"standard\" python, but can be _imported_ from add-on _packages_, or code _libraries_. For example, we could take the square root by raising $a$ to the 1/2 power: `a**0.5` "
      ]
    },
    {
      "cell_type": "code",
      "metadata": {
        "id": "Jd0J1JONZJSB",
        "colab": {
          "base_uri": "https://localhost:8080/"
        },
        "outputId": "2d666854-d206-4b8f-b356-d7d84b59448e"
      },
      "source": [
        "a**0.5"
      ],
      "execution_count": 5,
      "outputs": [
        {
          "output_type": "execute_result",
          "data": {
            "text/plain": [
              "2.8284271247461903"
            ]
          },
          "metadata": {
            "tags": []
          },
          "execution_count": 5
        }
      ]
    },
    {
      "cell_type": "markdown",
      "metadata": {
        "id": "Xmv6sDRxZS32"
      },
      "source": [
        "Or, by calling a function that someone else has written, called `sqrt`. We will gain access to this function by importing it from a library. We call the function by name, and provide the function with the necessary input in parentheses:"
      ]
    },
    {
      "cell_type": "code",
      "metadata": {
        "id": "B3kRGQ4VZi19",
        "colab": {
          "base_uri": "https://localhost:8080/"
        },
        "outputId": "108ebc79-5b2a-44fa-9fe8-68aa1d3d3e56"
      },
      "source": [
        "from numpy import sqrt\n",
        "sqrt(a)"
      ],
      "execution_count": null,
      "outputs": [
        {
          "output_type": "execute_result",
          "data": {
            "text/plain": [
              "2.8284271247461903"
            ]
          },
          "metadata": {
            "tags": []
          },
          "execution_count": 5
        }
      ]
    },
    {
      "cell_type": "markdown",
      "metadata": {
        "id": "px0YTKjhcga1"
      },
      "source": [
        "We can also import an entire library, a couple of different ways: (1) `from numpy import *` will import all code in the library and be directly callable; or, (2) `import numpy` or `import numpy as np`, will import the library, but accessing the functions requires the use of a prefix, in the second case `np`. The advantage of the second option is that we might inadvertently import from two libraries, functions that have the same name."
      ]
    },
    {
      "cell_type": "code",
      "metadata": {
        "id": "tkpQhu2Kcbt5",
        "colab": {
          "base_uri": "https://localhost:8080/"
        },
        "outputId": "68ec2123-e25a-4987-b694-3889b8385aef"
      },
      "source": [
        "import numpy as np\n",
        "np.sqrt(a)"
      ],
      "execution_count": 6,
      "outputs": [
        {
          "output_type": "execute_result",
          "data": {
            "text/plain": [
              "2.8284271247461903"
            ]
          },
          "metadata": {
            "tags": []
          },
          "execution_count": 6
        }
      ]
    },
    {
      "cell_type": "markdown",
      "metadata": {
        "id": "XAo2gnIRaJx5"
      },
      "source": [
        "## Formatted printing \n",
        "Taking `sqrt(8)` generates a value with a lot of decimal places! Let's say we only care about the first two (hundred's) we can format the output using a formatted print statement:"
      ]
    },
    {
      "cell_type": "code",
      "metadata": {
        "id": "xfd38DJeaPxb",
        "colab": {
          "base_uri": "https://localhost:8080/"
        },
        "outputId": "506ef8ab-a956-499a-81e5-3321822a98df"
      },
      "source": [
        "# formatted printing\n",
        "print(\"The square root of %.f is: %5.2f\" % (a,sqrt(a))) "
      ],
      "execution_count": null,
      "outputs": [
        {
          "output_type": "stream",
          "text": [
            "The square root of 8 is:  2.83\n"
          ],
          "name": "stdout"
        }
      ]
    },
    {
      "cell_type": "markdown",
      "metadata": {
        "id": "akVGvqHIa1qD"
      },
      "source": [
        "In the formatted print statement the two instances of `%` indicate we are expecting two variables, which are passed as a list `% (a, sqrt(a))`. The text `%5.2f` says to represent a number as a floating point decimal with 5 characters, including the point and two digits to the right of the decimal; rounding happens after the 2nd decimal. "
      ]
    },
    {
      "cell_type": "code",
      "metadata": {
        "colab": {
          "base_uri": "https://localhost:8080/"
        },
        "id": "jttqzhjR1vq3",
        "outputId": "666ce99a-a2db-4be2-f794-f18e0d45b192"
      },
      "source": [
        "# C-like formatting statements:\n",
        "print(\"The volume of a sphere with a radius r = %d is 4/3πr^3 = %5.2f\" % (a, 4*np.pi*a**3/3))"
      ],
      "execution_count": 7,
      "outputs": [
        {
          "output_type": "stream",
          "text": [
            "The volume of a sphere with a radius r = 8 is 4/3πr^3 = 2144.66\n"
          ],
          "name": "stdout"
        }
      ]
    },
    {
      "cell_type": "markdown",
      "metadata": {
        "id": "nUEIF6qncEW6"
      },
      "source": [
        "There's a second (\"Pythonic\") way to format printed text; use whichever form is easiest for you:"
      ]
    },
    {
      "cell_type": "code",
      "metadata": {
        "id": "AOZcaBf-cSyn",
        "colab": {
          "base_uri": "https://localhost:8080/"
        },
        "outputId": "bdfe3046-6ae6-431b-e1b7-ab2202576733"
      },
      "source": [
        "# Python way of formatting text:\n",
        "print(\"The volume of a sphere with a radius r = {0:d} is 4/3πr^3 = {1:5.2f}\".format(a, 4*np.pi*a**3/3))"
      ],
      "execution_count": 8,
      "outputs": [
        {
          "output_type": "stream",
          "text": [
            "The volume of a sphere with a radius r = 8 is 4/3πr^3 = 2144.66\n"
          ],
          "name": "stdout"
        }
      ]
    },
    {
      "cell_type": "markdown",
      "metadata": {
        "id": "V9ip-BpMB8uF"
      },
      "source": [
        "## Lists and Arrays\n",
        "In Python, list elements are indexed from 0, not 1. So the third element of a list would be #2, and we access it using the list name and square brackets: `name[i]`"
      ]
    },
    {
      "cell_type": "code",
      "metadata": {
        "id": "0kFvfb9ACJth",
        "colab": {
          "base_uri": "https://localhost:8080/",
          "height": 36
        },
        "outputId": "85702ceb-7654-4e6c-ed81-21a974979191"
      },
      "source": [
        "my_list = 'first', 'second', 'third', 'fourth'\n",
        "my_list[2]"
      ],
      "execution_count": null,
      "outputs": [
        {
          "output_type": "execute_result",
          "data": {
            "application/vnd.google.colaboratory.intrinsic+json": {
              "type": "string"
            },
            "text/plain": [
              "'third'"
            ]
          },
          "metadata": {
            "tags": []
          },
          "execution_count": 47
        }
      ]
    },
    {
      "cell_type": "markdown",
      "metadata": {
        "id": "7mFlTGdJk-X-"
      },
      "source": [
        "# Plotting a function using Numpy and Matplotlib\n",
        "Several plotting and graphics libraries are available in Python, but [Matplotlib](https://matplotlib.org/) is powerful and the most common."
      ]
    },
    {
      "cell_type": "code",
      "metadata": {
        "id": "_fxWF5vylOU8"
      },
      "source": [
        "import matplotlib.pyplot as plt\n",
        "import numpy as np"
      ],
      "execution_count": 10,
      "outputs": []
    },
    {
      "cell_type": "markdown",
      "metadata": {
        "id": "ZaTBw6u_orts"
      },
      "source": [
        "We can plot a function by generating synthetic $x$ values and computing corresponding $y$ values. Numpy's `linspace` [(docs)](https://numpy.org/doc/stable/reference/generated/numpy.linspace.html) will generate (by default 50) evenly spaced values between the two indicated bounds, inclusive)."
      ]
    },
    {
      "cell_type": "code",
      "metadata": {
        "id": "WWk79kLalGTQ",
        "colab": {
          "base_uri": "https://localhost:8080/",
          "height": 281
        },
        "outputId": "ad126f75-7498-4281-dd55-f80fe9f61a4b"
      },
      "source": [
        "x = np.linspace(0,2) # generates an array of x values between 0 and 2pi\n",
        "plt.plot(x,np.cos(x*np.pi), label='$cos(\\Theta)$') \n",
        "plt.plot(x,np.sin(x*np.pi),'.-.', label='$sin(\\Theta)$')\n",
        "phi = 0.3 # phase shift in pi radians\n",
        "A = 1 # amplitude\n",
        "freq = 1 # frequency multiple\n",
        "y = A*np.sin(freq*x*np.pi + phi*np.pi)\n",
        "plt.plot(x,y,'-.', label='%.g$sin(%g\\Theta+$%.g)' % (A,freq,phi))\n",
        "plt.xlabel('$\\pi$ radians')\n",
        "plt.grid(); plt.legend(); plt.show()"
      ],
      "execution_count": 28,
      "outputs": [
        {
          "output_type": "display_data",
          "data": {
            "image/png": "[encoded data removed]",
            "text/plain": [
              "<Figure size 432x288 with 1 Axes>"
            ]
          },
          "metadata": {
            "tags": [],
            "needs_background": "light"
          }
        }
      ]
    },
    {
      "cell_type": "markdown",
      "metadata": {
        "id": "DoymDPGT36eR"
      },
      "source": [
        "Try changing the values `phi`, `A` and `freq` in the code cell above (and re-running) to see the effect on the third curve."
      ]
    },
    {
      "cell_type": "markdown",
      "metadata": {
        "id": "qALsW8XAgwaa"
      },
      "source": [
        "## Simple plotting and fitting with Python, using matplotlib and pandas\n",
        "We will start with a cooperative isotherm of oxygen binding to hemoglobin. The data as follows, in which the first column is oxygen partial pressure (in mmHg), and the second is fractional saturation:\n",
        "\n",
        "|$P(O_2)$ | Y |\n",
        "| --- | --- |\n",
        "|0.499\t|0.000|\n",
        "|1.341\t|0.015|\n",
        "|2.106\t|0.030|\n",
        "|5.345\t|0.146|\n",
        "|7.934\t|0.316|\n",
        "|11.132\t|0.505|\n",
        "|14.761\t|0.644|\n",
        "|18.499\t|0.760|\n",
        "|25.233\t|0.919|\n",
        "|64.028\t|0.995|\n",
        "\n",
        "\n",
        "We plot the data using `matplotlib` https://matplotlib.org/ (a library with functionality similar to that of MATLAB), we define _x_ and _y_ data. This can be done manually, as ..."
      ]
    },
    {
      "cell_type": "code",
      "metadata": {
        "id": "11hLGNZrGM7C",
        "colab": {
          "base_uri": "https://localhost:8080/",
          "height": 279
        },
        "outputId": "0c3be6a6-8dc1-4bd6-d881-087d03e7c0c1"
      },
      "source": [
        "# the x and y data: \n",
        "x = [0.499,  1.341,  2.106,  5.345,  7.934,  11.132,  14.761,  18.499, \n",
        "     25.233, 64.028]\n",
        "y = [0.0, 0.015, 0.03, 0.146, 0.316, 0.505, 0.644, 0.76, 0.919, 0.995]\n",
        "plt.plot(x,y, 'bo--') # 'bo--' means *b*lue 'o's and dashes\n",
        "plt.xlabel('Oxygen Pressure (mm)'); plt.ylabel('Saturation')\n",
        "plt.grid(); plt.show()"
      ],
      "execution_count": null,
      "outputs": [
        {
          "output_type": "display_data",
          "data": {
            "image/png": "[encoded data removed]",
            "text/plain": [
              "<Figure size 432x288 with 1 Axes>"
            ]
          },
          "metadata": {
            "tags": [],
            "needs_background": "light"
          }
        }
      ]
    },
    {
      "cell_type": "markdown",
      "metadata": {
        "id": "fSe_Gli9SUjT"
      },
      "source": [
        "## Loading tabular data with Pandas\n",
        "Above, we specified the _x_ and _y_ data as two lists. Usually, our data is tabulated in some file which we could read in to Python, instead of entering the list of values. We can most easily read in the data using the [Pandas package](https://pandas.pydata.org/). Pandas simplifies loading tabular data into a \"data frame\"; basically a table with rows and columns. For this example, the data are available on the web as a space-separated text file, at [this link]( https://github.com/mpfoster/Biochem6765/blob/master/data/hb+o2.txt). The first line of the file is a comment, so we need to tell pandas to ignore lines that start with `comment='#'`, that the separator between fields is blank space `sep='\\s+'`, and that the file does not have a reader row with properly formatted column names, `header=None`.\n",
        "\n",
        "(In addition to space, or tab-delimited files, pandas has utilites for reading `.csv` files (comma-separated-values; probably the most common), and can diretly read data from _Excel_ spreadsheets, or even on-line Google spreadsheets. See [here](https://pandas.pydata.org/pandas-docs/stable/reference/api/pandas.read_table.html))"
      ]
    },
    {
      "cell_type": "code",
      "metadata": {
        "id": "NJZEkhpVyggl",
        "colab": {
          "base_uri": "https://localhost:8080/",
          "height": 363
        },
        "outputId": "1f3a7e6b-1a1c-4c62-fdd0-58a260318e29"
      },
      "source": [
        "# use pandas to load the data from a url\n",
        "import pandas as pd\n",
        "df = pd.read_table(\n",
        "    \"https://www.asc.ohio-state.edu/foster.281/gnuplot/gnuplot_tutorial1_files/hb+o2.txt\",\n",
        "    sep='\\s+', header=None, comment='#')\n",
        "df.columns = ['PO2','Ys']  # rename columns; 0: oxygen pressure; 1: saturation\n",
        "df  # print out the data frame"
      ],
      "execution_count": null,
      "outputs": [
        {
          "output_type": "execute_result",
          "data": {
            "text/html": [
              "<div>\n",
              "<style scoped>\n",
              "    .dataframe tbody tr th:only-of-type {\n",
              "        vertical-align: middle;\n",
              "    }\n",
              "\n",
              "    .dataframe tbody tr th {\n",
              "        vertical-align: top;\n",
              "    }\n",
              "\n",
              "    .dataframe thead th {\n",
              "        text-align: right;\n",
              "    }\n",
              "</style>\n",
              "<table border=\"1\" class=\"dataframe\">\n",
              "  <thead>\n",
              "    <tr style=\"text-align: right;\">\n",
              "      <th></th>\n",
              "      <th>PO2</th>\n",
              "      <th>Ys</th>\n",
              "    </tr>\n",
              "  </thead>\n",
              "  <tbody>\n",
              "    <tr>\n",
              "      <th>0</th>\n",
              "      <td>0.499</td>\n",
              "      <td>0.000</td>\n",
              "    </tr>\n",
              "    <tr>\n",
              "      <th>1</th>\n",
              "      <td>1.341</td>\n",
              "      <td>0.015</td>\n",
              "    </tr>\n",
              "    <tr>\n",
              "      <th>2</th>\n",
              "      <td>2.106</td>\n",
              "      <td>0.030</td>\n",
              "    </tr>\n",
              "    <tr>\n",
              "      <th>3</th>\n",
              "      <td>5.345</td>\n",
              "      <td>0.146</td>\n",
              "    </tr>\n",
              "    <tr>\n",
              "      <th>4</th>\n",
              "      <td>7.934</td>\n",
              "      <td>0.316</td>\n",
              "    </tr>\n",
              "    <tr>\n",
              "      <th>5</th>\n",
              "      <td>11.132</td>\n",
              "      <td>0.505</td>\n",
              "    </tr>\n",
              "    <tr>\n",
              "      <th>6</th>\n",
              "      <td>14.761</td>\n",
              "      <td>0.644</td>\n",
              "    </tr>\n",
              "    <tr>\n",
              "      <th>7</th>\n",
              "      <td>18.499</td>\n",
              "      <td>0.760</td>\n",
              "    </tr>\n",
              "    <tr>\n",
              "      <th>8</th>\n",
              "      <td>25.233</td>\n",
              "      <td>0.919</td>\n",
              "    </tr>\n",
              "    <tr>\n",
              "      <th>9</th>\n",
              "      <td>64.028</td>\n",
              "      <td>0.995</td>\n",
              "    </tr>\n",
              "  </tbody>\n",
              "</table>\n",
              "</div>"
            ],
            "text/plain": [
              "      PO2     Ys\n",
              "0   0.499  0.000\n",
              "1   1.341  0.015\n",
              "2   2.106  0.030\n",
              "3   5.345  0.146\n",
              "4   7.934  0.316\n",
              "5  11.132  0.505\n",
              "6  14.761  0.644\n",
              "7  18.499  0.760\n",
              "8  25.233  0.919\n",
              "9  64.028  0.995"
            ]
          },
          "metadata": {
            "tags": []
          },
          "execution_count": 48
        }
      ]
    },
    {
      "cell_type": "markdown",
      "metadata": {
        "id": "Lrm7uBrReLwj"
      },
      "source": [
        "and... easily plot the data using either (1) the pyplot funtions of matplotlib, or (2) built-in plotting functions of a pandas data frame [(docs)](https://pandas.pydata.org/pandas-docs/stable/reference/api/pandas.DataFrame.plot.html#pandas.DataFrame.plot):"
      ]
    },
    {
      "cell_type": "code",
      "metadata": {
        "id": "GHgQynRYDLYe",
        "colab": {
          "base_uri": "https://localhost:8080/",
          "height": 265
        },
        "outputId": "e9c51ff8-b85e-4b54-b1a1-3bee8ae2720a"
      },
      "source": [
        "# (1) using pyplot; x and y by column name\n",
        "plt.plot(df['PO2'], df['Ys'], 'o-'); plt.grid()"
      ],
      "execution_count": null,
      "outputs": [
        {
          "output_type": "display_data",
          "data": {
            "image/png": "[encoded data removed]",
            "text/plain": [
              "<Figure size 432x288 with 1 Axes>"
            ]
          },
          "metadata": {
            "tags": [],
            "needs_background": "light"
          }
        }
      ]
    },
    {
      "cell_type": "code",
      "metadata": {
        "id": "aS8jEKNa1U_n",
        "colab": {
          "base_uri": "https://localhost:8080/",
          "height": 225
        },
        "outputId": "4375a3e6-4fba-405c-df24-7f52f52921bb"
      },
      "source": [
        "# (2) using built-in pandas plot functions:\n",
        "df.plot('PO2', 'Ys', style='o-', figsize=(4,3))\n",
        "plt.grid() # plot the data using a scatter plot"
      ],
      "execution_count": null,
      "outputs": [
        {
          "output_type": "display_data",
          "data": {
            "image/png": "[encoded data removed]",
            "text/plain": [
              "<Figure size 288x216 with 1 Axes>"
            ]
          },
          "metadata": {
            "tags": [],
            "needs_background": "light"
          }
        }
      ]
    },
    {
      "cell_type": "markdown",
      "metadata": {
        "id": "gVvHVsvXelzj"
      },
      "source": [
        "NB: we can convert a column in a data frame to a list:"
      ]
    },
    {
      "cell_type": "code",
      "metadata": {
        "id": "S3WosP1GUuuU",
        "colab": {
          "base_uri": "https://localhost:8080/",
          "height": 35
        },
        "outputId": "87f325b1-cdeb-4722-f3d2-51c030a6226c"
      },
      "source": [
        "df['Ys'].tolist() # print a column as a list"
      ],
      "execution_count": null,
      "outputs": [
        {
          "output_type": "execute_result",
          "data": {
            "text/plain": [
              "[0.0, 0.015, 0.03, 0.146, 0.316, 0.505, 0.644, 0.76, 0.919, 0.995]"
            ]
          },
          "metadata": {
            "tags": []
          },
          "execution_count": 4
        }
      ]
    }
  ]
}